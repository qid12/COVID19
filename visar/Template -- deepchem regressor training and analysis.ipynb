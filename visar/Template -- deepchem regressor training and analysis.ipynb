{
 "cells": [
  {
   "cell_type": "code",
   "execution_count": null,
   "metadata": {},
   "outputs": [],
   "source": [
    "import os\n",
    "os.environ['CUDA_VISIBLE_DEVICES']='1'"
   ]
  },
  {
   "cell_type": "markdown",
   "metadata": {},
   "source": [
    "## Hyperparameter screening"
   ]
  },
  {
   "cell_type": "code",
   "execution_count": null,
   "metadata": {},
   "outputs": [],
   "source": [
    "from collections import OrderedDict\n",
    "target_list = ['T8','T9']\n",
    "\n",
    "para_dict_deepchem = {\n",
    "    'model_name': 'VISAR_dc_demo',\n",
    "    'task_list': target_list,\n",
    "    'eval_type': 'regression',\n",
    "    # input data related params:\n",
    "    'dataset_file': './data/Kinase_tot_4deepchem_processed.csv',\n",
    "    'feature_type': 'Circular_2048',\n",
    "    'id_field': 'molregno',\n",
    "    'smiles_field': 'cano_smiles',\n",
    "    'model_flag': 'MT',\n",
    "    'add_features': None,\n",
    "    'frac_train': 0.9,\n",
    "    'rand_seed': 0,\n",
    "    'batch_size': 100,\n",
    "    'normalize': True,\n",
    "    # model architecture related parameters:\n",
    "    'layer_sizes': [256, 64],\n",
    "    'bypass_layer_sizes': [32],\n",
    "    'dropouts': 0.5,\n",
    "    'bypass_dropouts': 0.5,\n",
    "    # model training related parameters:\n",
    "    'learning_rate': 0.001,\n",
    "    'GPU': True,\n",
    "    'epoch': 5, # training epoch of each round (saving model at the end of each round)\n",
    "    'epoch_num': 10, # how many rounds\n",
    "    'optimizer': 'RMSprop',\n",
    "    # viz file processing related parameters:\n",
    "    'model_architecture': 'RobustMT',\n",
    "    'hidden_layer': 2,\n",
    "}\n",
    "\n",
    "candidate_params_dict = OrderedDict(\n",
    "    n_tasks = [4],\n",
    "    n_features = [2048], ## need modification given FP types\n",
    "    activation = ['relu'],\n",
    "    momentum = [.9],\n",
    "    batch_size = [128],\n",
    "    init = ['glorot_uniform'],\n",
    "    learning_rate = [0.001],\n",
    "    decay = [1e-6],\n",
    "    nb_epoch = [30],\n",
    "    dropouts = [.2, .4],\n",
    "    nb_layers = [1],\n",
    "    batchnorm = [False],\n",
    "    layer_sizes = [(1024, 512), (512,265), (512, 128)],\n",
    "    bypass_dropouts = [0.2, 0.4],\n",
    "    bypass_layer_sizes = [[128], [64]]\n",
    ")\n"
   ]
  },
  {
   "cell_type": "code",
   "execution_count": null,
   "metadata": {},
   "outputs": [],
   "source": [
    "os.chdir('/working/directory/')\n",
    "log_out = RobustMT_model_hyperparam_screen(para_dict_deepchem, candidate_params_dict)"
   ]
  },
  {
   "cell_type": "markdown",
   "metadata": {},
   "source": [
    "## model training"
   ]
  },
  {
   "cell_type": "code",
   "execution_count": null,
   "metadata": {},
   "outputs": [],
   "source": [
    "from visar.deepchem_regressor import deepchem_robust_regressor\n",
    "from visar.VISAR_model import visar_model\n",
    "from visar.dataloader.deepchem_utils import prepare_dataset"
   ]
  },
  {
   "cell_type": "code",
   "execution_count": null,
   "metadata": {},
   "outputs": [],
   "source": [
    "train_loader, test_loader, train_df, test_df, para_dict_deepchem = prepare_dataset(para_dict_deepchem)"
   ]
  },
  {
   "cell_type": "code",
   "execution_count": null,
   "metadata": {},
   "outputs": [],
   "source": [
    "dc_model = deepchem_robust_regressor(para_dict_deepchem)\n",
    "dc_model.model_init()\n",
    "dc_model.model"
   ]
  },
  {
   "cell_type": "code",
   "execution_count": null,
   "metadata": {},
   "outputs": [],
   "source": [
    "dc_model.fit(train_loader, test_loader)"
   ]
  },
  {
   "cell_type": "markdown",
   "metadata": {},
   "source": [
    "## generate viz files"
   ]
  },
  {
   "cell_type": "code",
   "execution_count": null,
   "metadata": {},
   "outputs": [],
   "source": [
    "# custom data loader prepare\n",
    "custom_para_dict = {\n",
    "    'task_list': ['IC50_acvalue'],   # a dummy column of float\n",
    "    # input data related params:\n",
    "    'dataset_file': './data/FOR_predict.csv',\n",
    "    'feature_type': 'Morgan',\n",
    "    'id_field': 'CID',   #\n",
    "    'smiles_field': 'SMILES',  #\n",
    "    'model_flag':'ST',\n",
    "    'add_features': None,\n",
    "    'frac_train': 1,\n",
    "    'batch_size': 100,\n",
    "    'normalize': False\n",
    "}\n",
    "\n",
    "custom_loader, custom_df, custom_para_dict = compound_FP_loader(custom_para_dict)"
   ]
  },
  {
   "cell_type": "code",
   "execution_count": null,
   "metadata": {},
   "outputs": [],
   "source": [
    "# load previous model\n",
    "import json\n",
    "para_dict_deepchem = json.load(open('./logs/VISAR_dc_demo/train_parameters.json','r'))"
   ]
  },
  {
   "cell_type": "code",
   "execution_count": null,
   "metadata": {},
   "outputs": [],
   "source": [
    "model = pytorch_DNN_model(para_dict_deepchem)\n",
    "model.model_init()\n",
    "model.load_model()\n",
    "model.para_dict['custom_id_field'] = 'CID'\n",
    "model.para_dict['custom_smiles_field'] = 'SMILES'\n",
    "model.generate_viz_results(train_loader, train_df, 'test',\n",
    "                           custom_loader = custom_loader, \n",
    "                           custom_df = custom_df)"
   ]
  },
  {
   "cell_type": "markdown",
   "metadata": {},
   "source": [
    "## baseline model"
   ]
  },
  {
   "cell_type": "code",
   "execution_count": null,
   "metadata": {},
   "outputs": [],
   "source": [
    "para_dict_baseline = {\n",
    "            'model_name': 'KLIFS_global750_SVR',\n",
    "            'task_list': ['T9'],\n",
    "            'eval_type': 'regression',\n",
    "            # input data related params:\n",
    "            'dataset_file': '../data/MT_data_clean_June28.csv',\n",
    "            'dataset_file': './data/Kinase_tot_4deepchem_processed.csv',\n",
    "            'feature_type': 'Circular_2048',\n",
    "            'id_field': 'molregno',\n",
    "            'smiles_field': 'cano_smiles',\n",
    "            'model_flag': 'ST',\n",
    "            'add_features': None,\n",
    "            'frac_train': 0.9,\n",
    "            'rand_seed': 10000,\n",
    "            'normalize': True,\n",
    "            # model architecture related parameters:\n",
    "            'baseline_type': 'SVR', # 'RidgeCV'\n",
    "            # viz file processing related parameters:\n",
    "            'model_architecture': 'ST'\n",
    "}"
   ]
  },
  {
   "cell_type": "code",
   "execution_count": null,
   "metadata": {},
   "outputs": [],
   "source": [
    "# prepare dataset\n",
    "train_loader, test_loader, train_df, test_df, para_dict_baseline = prepare_dataset(para_dict_baseline)\n",
    "baseline_model = visar_model(para_dict_baseline)\n",
    "baseline_model.model_init()\n",
    "baseline_model.fit(train_loader)\n",
    "sqrt_train, pearsonr_train = baseline_model.evaluate(train_loader)\n",
    "sqrt_test, pearsonr_test = baseline_model.evaluate(test_loader)"
   ]
  },
  {
   "cell_type": "code",
   "execution_count": null,
   "metadata": {},
   "outputs": [],
   "source": [
    "baseline_model.generate_viz_results(train_loader, train_df, 'SVR_demo')"
   ]
  },
  {
   "cell_type": "code",
   "execution_count": null,
   "metadata": {},
   "outputs": [],
   "source": []
  }
 ],
 "metadata": {
  "kernelspec": {
   "display_name": "deepchem",
   "language": "python",
   "name": "deepchem"
  },
  "language_info": {
   "codemirror_mode": {
    "name": "ipython",
    "version": 3
   },
   "file_extension": ".py",
   "mimetype": "text/x-python",
   "name": "python",
   "nbconvert_exporter": "python",
   "pygments_lexer": "ipython3",
   "version": "3.5.5"
  },
  "toc": {
   "base_numbering": 1,
   "nav_menu": {},
   "number_sections": true,
   "sideBar": true,
   "skip_h1_title": false,
   "title_cell": "Table of Contents",
   "title_sidebar": "Contents",
   "toc_cell": false,
   "toc_position": {},
   "toc_section_display": true,
   "toc_window_display": false
  },
  "varInspector": {
   "cols": {
    "lenName": 16,
    "lenType": 16,
    "lenVar": 40
   },
   "kernels_config": {
    "python": {
     "delete_cmd_postfix": "",
     "delete_cmd_prefix": "del ",
     "library": "var_list.py",
     "varRefreshCmd": "print(var_dic_list())"
    },
    "r": {
     "delete_cmd_postfix": ") ",
     "delete_cmd_prefix": "rm(",
     "library": "var_list.r",
     "varRefreshCmd": "cat(var_dic_list()) "
    }
   },
   "types_to_exclude": [
    "module",
    "function",
    "builtin_function_or_method",
    "instance",
    "_Feature"
   ],
   "window_display": false
  }
 },
 "nbformat": 4,
 "nbformat_minor": 2
}
